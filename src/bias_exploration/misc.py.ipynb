{
 "cells": [
  {
   "cell_type": "code",
   "execution_count": 17,
   "id": "initial_id",
   "metadata": {
    "collapsed": true,
    "ExecuteTime": {
     "end_time": "2024-08-21T11:44:58.861809412Z",
     "start_time": "2024-08-21T11:44:57.288569807Z"
    }
   },
   "outputs": [],
   "source": [
    "\"\"\"Compute distributions of markers and ratios (how many masc vs. fem detected in a text that is annotated with gender X)\"\"\"\n",
    "import pandas as pd\n",
    "import ast\n",
    "df = pd.read_csv(\"../../annotated_data/generations_full-corpus.csv\")\n",
    "masc_counters = []\n",
    "fem_counters = []\n",
    "for line in df[\"Detailed_counter\"]:\n",
    "    # Avoid empty dict Counter() (when neutral)\n",
    "    dic = {\"Fem\":0, \"Masc\":0}\n",
    "    if len(line)>9:\n",
    "        counter = ast.literal_eval(line.replace(\"Counter(\",\"\").replace(\")\",\"\"))\n",
    "        if \"Fem\" in counter:\n",
    "            dic[\"Fem\"] = counter[\"Fem\"]\n",
    "        if \"Masc\" in counter:\n",
    "            dic[\"Masc\"] = counter[\"Masc\"]\n",
    "    masc_counters.append(dic[\"Masc\"])\n",
    "    fem_counters.append(dic[\"Fem\"])\n",
    "\n",
    "df[\"Masc_counters\"] = masc_counters\n",
    "df[\"Fem_counters\"] = fem_counters"
   ]
  },
  {
   "cell_type": "code",
   "execution_count": 20,
   "outputs": [
    {
     "name": "stdout",
     "output_type": "stream",
     "text": [
      "6.666333333333333\n",
      "5.482380952380953\n"
     ]
    }
   ],
   "source": [
    "print(df[\"Masc_counters\"].mean())\n",
    "print(df[\"Fem_counters\"].mean())"
   ],
   "metadata": {
    "collapsed": false,
    "ExecuteTime": {
     "end_time": "2024-08-21T11:45:42.412817309Z",
     "start_time": "2024-08-21T11:45:42.407419466Z"
    }
   },
   "id": "544646c1599ff11e"
  },
  {
   "cell_type": "code",
   "execution_count": 22,
   "outputs": [
    {
     "name": "stdout",
     "output_type": "stream",
     "text": [
      "1.8495661605206073\n",
      "10.949023861171366\n"
     ]
    }
   ],
   "source": [
    "df_fem = df[df[\"Identified_gender\"] == \"Fem\"]\n",
    "print(df_fem[\"Masc_counters\"].mean())\n",
    "print(df_fem[\"Fem_counters\"].mean())"
   ],
   "metadata": {
    "collapsed": false,
    "ExecuteTime": {
     "end_time": "2024-08-21T11:46:27.958950077Z",
     "start_time": "2024-08-21T11:46:27.945222562Z"
    }
   },
   "id": "ed386eae6e3e5a09"
  },
  {
   "cell_type": "code",
   "execution_count": 23,
   "outputs": [
    {
     "name": "stdout",
     "output_type": "stream",
     "text": [
      "10.702810180275716\n",
      "1.0916401555319901\n"
     ]
    }
   ],
   "source": [
    "df_fem = df[df[\"Identified_gender\"] == \"Masc\"]\n",
    "print(df_fem[\"Masc_counters\"].mean())\n",
    "print(df_fem[\"Fem_counters\"].mean())"
   ],
   "metadata": {
    "collapsed": false,
    "ExecuteTime": {
     "end_time": "2024-08-21T11:46:38.738627246Z",
     "start_time": "2024-08-21T11:46:38.722557829Z"
    }
   },
   "id": "ec63e8bedff4aadd"
  },
  {
   "cell_type": "code",
   "execution_count": 34,
   "outputs": [],
   "source": [
    "def ratio_markers(row):\n",
    "    total = len(row[\"generation\"].split())\n",
    "    ratio_masc = row[\"Masc_counters\"]/total\n",
    "    ratio_fem = row[\"Fem_counters\"]/total\n",
    "    ratio_markers = ratio_masc + ratio_fem\n",
    "    return round(ratio_masc,3), round(ratio_fem,3), round(ratio_markers,3)\n",
    "\n",
    "df[\"ratio_markers\"] = df.apply(lambda row: ratio_markers(row)[2], axis=1)\n",
    "df[\"ratio_markers_masc\"] = df.apply(lambda row: ratio_markers(row)[0], axis=1)\n",
    "df[\"ratio_markers_fem\"] = df.apply(lambda row: ratio_markers(row)[1], axis=1)"
   ],
   "metadata": {
    "collapsed": false,
    "ExecuteTime": {
     "end_time": "2024-08-21T11:52:36.388394645Z",
     "start_time": "2024-08-21T11:52:32.880580879Z"
    }
   },
   "id": "d00037e88bdacd59"
  },
  {
   "cell_type": "code",
   "execution_count": 36,
   "outputs": [
    {
     "name": "stdout",
     "output_type": "stream",
     "text": [
      "0.019501142857142856\n",
      "0.010655857142857144\n",
      "0.008855904761904761\n"
     ]
    }
   ],
   "source": [
    "print(df[\"ratio_markers\"].mean())\n",
    "print(df[\"ratio_markers_masc\"].mean())\n",
    "print(df[\"ratio_markers_fem\"].mean())"
   ],
   "metadata": {
    "collapsed": false,
    "ExecuteTime": {
     "end_time": "2024-08-21T11:53:03.752061048Z",
     "start_time": "2024-08-21T11:53:03.709856161Z"
    }
   },
   "id": "4266e8ce43828eae"
  },
  {
   "cell_type": "code",
   "execution_count": 37,
   "outputs": [
    {
     "name": "stdout",
     "output_type": "stream",
     "text": [
      "0.020641323210412153\n",
      "0.002905965292841649\n",
      "0.01774240780911063\n"
     ]
    }
   ],
   "source": [
    "df_fem = df[df[\"Identified_gender\"] == \"Fem\"]\n",
    "print(df_fem[\"ratio_markers\"].mean())\n",
    "print(df_fem[\"ratio_markers_masc\"].mean())\n",
    "print(df_fem[\"ratio_markers_fem\"].mean())"
   ],
   "metadata": {
    "collapsed": false,
    "ExecuteTime": {
     "end_time": "2024-08-21T11:53:42.327795229Z",
     "start_time": "2024-08-21T11:53:42.280130428Z"
    }
   },
   "id": "f7e55bdeeb705029"
  },
  {
   "cell_type": "code",
   "execution_count": 38,
   "outputs": [
    {
     "name": "stdout",
     "output_type": "stream",
     "text": [
      "0.018841816896429837\n",
      "0.01714139271827501\n",
      "0.0017127076705549665\n"
     ]
    }
   ],
   "source": [
    "df_masc = df[df[\"Identified_gender\"] == \"Masc\"]\n",
    "print(df_masc[\"ratio_markers\"].mean())\n",
    "print(df_masc[\"ratio_markers_masc\"].mean())\n",
    "print(df_masc[\"ratio_markers_fem\"].mean())"
   ],
   "metadata": {
    "collapsed": false,
    "ExecuteTime": {
     "end_time": "2024-08-21T11:54:17.023854486Z",
     "start_time": "2024-08-21T11:54:16.982764409Z"
    }
   },
   "id": "8d8961b800a474bb"
  }
 ],
 "metadata": {
  "kernelspec": {
   "display_name": "Python 3",
   "language": "python",
   "name": "python3"
  },
  "language_info": {
   "codemirror_mode": {
    "name": "ipython",
    "version": 2
   },
   "file_extension": ".py",
   "mimetype": "text/x-python",
   "name": "python",
   "nbconvert_exporter": "python",
   "pygments_lexer": "ipython2",
   "version": "2.7.6"
  }
 },
 "nbformat": 4,
 "nbformat_minor": 5
}
